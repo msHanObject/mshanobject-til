{
 "cells": [
  {
   "cell_type": "code",
   "execution_count": 23,
   "metadata": {
    "collapsed": true
   },
   "outputs": [],
   "source": [
    "import urllib.request\n",
    "from bs4 import BeautifulSoup\n",
    "import pandas as pd\n",
    "import datetime"
   ]
  },
  {
   "cell_type": "code",
   "execution_count": 24,
   "metadata": {
    "collapsed": true
   },
   "outputs": [],
   "source": [
    "def get_request_url(url, enc='utf-8'):\n",
    "    req = urllib.request.Request(url)\n",
    "\n",
    "    try:\n",
    "        response = urllib.request.urlopen(req)\n",
    "        if response.getcode() == 200:\n",
    "            try:\n",
    "                rcv = response.read()\n",
    "                ret = rcv.decode(enc)\n",
    "            except UnicodeDecodeError:\n",
    "                ret = rcv.decode(enc, 'replace')\n",
    "\n",
    "            return ret\n",
    "\n",
    "    except Exception as e:\n",
    "        print(e)\n",
    "        print(\"[%s] Error for URL : %s\" % (datetime.datetime.now().url))\n",
    "        return None    "
   ]
  },
  {
   "cell_type": "code",
   "execution_count": 25,
   "metadata": {
    "collapsed": true
   },
   "outputs": [],
   "source": [
    "def getBBQAddress(result):\n",
    "    BBQ_URL = 'https://www.bbq.co.kr/shop/shop_ajax.asp?page=1&pagesize=2000&gu=&si='\n",
    "    print(BBQ_URL)\n",
    "\n",
    "    rcv_data = get_request_url(BBQ_URL)\n",
    "    soupData = BeautifulSoup(rcv_data, 'html.parser')\n",
    "\n",
    "    tbody = soupData.find('tbody')\n",
    "\n",
    "    tr_tag = []\n",
    "\n",
    "    for store_tr in tbody.findAll('tr'):\n",
    "        tr_tag =list(store_tr.strings)\n",
    "        store_name = tr_tag[1]\n",
    "        store_address = tr_tag[3]\n",
    "        store_sido = store_address.split()[0]\n",
    "        store_gu = store_address.split()[1]\n",
    "        result.append([store_name] + [store_sido] + [store_gu] + [store_address])\n",
    "    return"
   ]
  },
  {
   "cell_type": "code",
   "execution_count": 26,
   "metadata": {
    "collapsed": true
   },
   "outputs": [],
   "source": [
    "def main():\n",
    "    result = []\n",
    "    getBBQAddress(result)\n",
    "    bbq_table = pd.DataFrame(result, columns=('store', 'sido', 'gungu', 'store_address'))\n",
    "    bbq_table.to_csv(\"bbq.csv\", encoding=\"cp949\", mode='w', index=True)"
   ]
  },
  {
   "cell_type": "code",
   "execution_count": 27,
   "metadata": {},
   "outputs": [
    {
     "name": "stdout",
     "output_type": "stream",
     "text": [
      "https://www.bbq.co.kr/shop/shop_ajax.asp?page=1&pagesize=2000&gu=&si=\n"
     ]
    }
   ],
   "source": [
    "if __name__ == '__main__':\n",
    "    main()"
   ]
  },
  {
   "cell_type": "code",
   "execution_count": null,
   "metadata": {
    "collapsed": true
   },
   "outputs": [],
   "source": []
  }
 ],
 "metadata": {
  "kernelspec": {
   "display_name": "Python 3",
   "language": "python",
   "name": "python3"
  },
  "language_info": {
   "codemirror_mode": {
    "name": "ipython",
    "version": 3
   },
   "file_extension": ".py",
   "mimetype": "text/x-python",
   "name": "python",
   "nbconvert_exporter": "python",
   "pygments_lexer": "ipython3",
   "version": "3.6.2"
  }
 },
 "nbformat": 4,
 "nbformat_minor": 2
}

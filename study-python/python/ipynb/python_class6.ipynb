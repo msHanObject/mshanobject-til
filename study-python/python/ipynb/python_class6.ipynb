{
 "cells": [
  {
   "cell_type": "code",
   "execution_count": 2,
   "metadata": {
    "collapsed": true
   },
   "outputs": [],
   "source": [
    "import urllib.request\n",
    "from bs4 import BeautifulSoup"
   ]
  },
  {
   "cell_type": "code",
   "execution_count": 3,
   "metadata": {
    "collapsed": true
   },
   "outputs": [],
   "source": [
    "html = urllib.request.urlopen(\"http://movie.naver.com/movie/sdb/rank/rmovie.nhn\")"
   ]
  },
  {
   "cell_type": "code",
   "execution_count": 4,
   "metadata": {
    "collapsed": true
   },
   "outputs": [],
   "source": [
    "soup = BeautifulSoup(html, 'html.parser')"
   ]
  },
  {
   "cell_type": "code",
   "execution_count": 5,
   "metadata": {},
   "outputs": [
    {
     "data": {
      "text/plain": [
       "[<meta content=\"text/html; charset=utf-8\" http-equiv=\"Content-Type\"/>,\n",
       " <meta content=\"IE=edge\" http-equiv=\"X-UA-Compatible\"/>,\n",
       " <meta content=\"http://imgmovie.naver.com/today/naverme/naverme_profile.jpg\" property=\"me2:image\">\n",
       " <meta content=\"네이버영화 \" property=\"me2:post_tag\">\n",
       " <meta content=\"네이버영화\" property=\"me2:category1\"/>\n",
       " <meta content=\"\" property=\"me2:category2\"/>\n",
       " <meta content=\"랭킹 : 네이버 영화\" property=\"og:title\"/>\n",
       " <meta content=\"영화, 영화인, 예매, 박스오피스 랭킹 정보 제공\" property=\"og:description\"/>\n",
       " <meta content=\"article\" property=\"og:type\"/>\n",
       " <meta content=\"http://movie.naver.com/movie/sdb/rank/rmovie.nhn\" property=\"og:url\"/>\n",
       " <meta content=\"http://static.naver.net/m/movie/icons/OG_270_270.png\" property=\"og:image\"/><!-- http://static.naver.net/m/movie/im/navermovie.jpg -->\n",
       " <meta content=\"http://imgmovie.naver.com/today/naverme/naverme_profile.jpg\" property=\"og:article:thumbnailUrl\"/>\n",
       " <meta content=\"네이버 영화\" property=\"og:article:author\"/>\n",
       " <meta content=\"http://movie.naver.com/\" property=\"og:article:author:url\"/>\n",
       " <link href=\"http://static.naver.net/m/movie/icons/naver_movie_favicon.ico\" rel=\"shortcut icon\" type=\"image/x-icon\"/>\n",
       " <title>랭킹 : 네이버 영화</title>\n",
       " <link href=\"/common/css/movie_tablet.css?20170925160128\" rel=\"stylesheet\" type=\"text/css\"/>\n",
       " <link href=\"/common/css/common.css?20170925160128\" rel=\"stylesheet\" type=\"text/css\"/>\n",
       " <link href=\"/common/css/layout.css?20170925160128\" rel=\"stylesheet\" type=\"text/css\"/>\n",
       " <link href=\"/common/css/old_default.css?20170925160128\" rel=\"stylesheet\" type=\"text/css\"/>\n",
       " <link href=\"/common/css/old_layout.css?20170925160128\" rel=\"stylesheet\" type=\"text/css\"/>\n",
       " <link href=\"/common/css/old_common.css?20170925160128\" rel=\"stylesheet\" type=\"text/css\"/>\n",
       " <link href=\"/common/css/old_super_db.css?20170925160128\" rel=\"stylesheet\" type=\"text/css\"/>\n",
       " <script src=\"/common/js/default-min.js\" type=\"text/javascript\"></script>\n",
       " </meta></meta>,\n",
       " <meta content=\"네이버영화 \" property=\"me2:post_tag\">\n",
       " <meta content=\"네이버영화\" property=\"me2:category1\"/>\n",
       " <meta content=\"\" property=\"me2:category2\"/>\n",
       " <meta content=\"랭킹 : 네이버 영화\" property=\"og:title\"/>\n",
       " <meta content=\"영화, 영화인, 예매, 박스오피스 랭킹 정보 제공\" property=\"og:description\"/>\n",
       " <meta content=\"article\" property=\"og:type\"/>\n",
       " <meta content=\"http://movie.naver.com/movie/sdb/rank/rmovie.nhn\" property=\"og:url\"/>\n",
       " <meta content=\"http://static.naver.net/m/movie/icons/OG_270_270.png\" property=\"og:image\"/><!-- http://static.naver.net/m/movie/im/navermovie.jpg -->\n",
       " <meta content=\"http://imgmovie.naver.com/today/naverme/naverme_profile.jpg\" property=\"og:article:thumbnailUrl\"/>\n",
       " <meta content=\"네이버 영화\" property=\"og:article:author\"/>\n",
       " <meta content=\"http://movie.naver.com/\" property=\"og:article:author:url\"/>\n",
       " <link href=\"http://static.naver.net/m/movie/icons/naver_movie_favicon.ico\" rel=\"shortcut icon\" type=\"image/x-icon\"/>\n",
       " <title>랭킹 : 네이버 영화</title>\n",
       " <link href=\"/common/css/movie_tablet.css?20170925160128\" rel=\"stylesheet\" type=\"text/css\"/>\n",
       " <link href=\"/common/css/common.css?20170925160128\" rel=\"stylesheet\" type=\"text/css\"/>\n",
       " <link href=\"/common/css/layout.css?20170925160128\" rel=\"stylesheet\" type=\"text/css\"/>\n",
       " <link href=\"/common/css/old_default.css?20170925160128\" rel=\"stylesheet\" type=\"text/css\"/>\n",
       " <link href=\"/common/css/old_layout.css?20170925160128\" rel=\"stylesheet\" type=\"text/css\"/>\n",
       " <link href=\"/common/css/old_common.css?20170925160128\" rel=\"stylesheet\" type=\"text/css\"/>\n",
       " <link href=\"/common/css/old_super_db.css?20170925160128\" rel=\"stylesheet\" type=\"text/css\"/>\n",
       " <script src=\"/common/js/default-min.js\" type=\"text/javascript\"></script>\n",
       " </meta>,\n",
       " <meta content=\"네이버영화\" property=\"me2:category1\"/>,\n",
       " <meta content=\"\" property=\"me2:category2\"/>,\n",
       " <meta content=\"랭킹 : 네이버 영화\" property=\"og:title\"/>,\n",
       " <meta content=\"영화, 영화인, 예매, 박스오피스 랭킹 정보 제공\" property=\"og:description\"/>,\n",
       " <meta content=\"article\" property=\"og:type\"/>,\n",
       " <meta content=\"http://movie.naver.com/movie/sdb/rank/rmovie.nhn\" property=\"og:url\"/>,\n",
       " <meta content=\"http://static.naver.net/m/movie/icons/OG_270_270.png\" property=\"og:image\"/>,\n",
       " <meta content=\"http://imgmovie.naver.com/today/naverme/naverme_profile.jpg\" property=\"og:article:thumbnailUrl\"/>,\n",
       " <meta content=\"네이버 영화\" property=\"og:article:author\"/>,\n",
       " <meta content=\"http://movie.naver.com/\" property=\"og:article:author:url\"/>,\n",
       " <link href=\"http://static.naver.net/m/movie/icons/naver_movie_favicon.ico\" rel=\"shortcut icon\" type=\"image/x-icon\"/>,\n",
       " <title>랭킹 : 네이버 영화</title>,\n",
       " <link href=\"/common/css/movie_tablet.css?20170925160128\" rel=\"stylesheet\" type=\"text/css\"/>,\n",
       " <link href=\"/common/css/common.css?20170925160128\" rel=\"stylesheet\" type=\"text/css\"/>,\n",
       " <link href=\"/common/css/layout.css?20170925160128\" rel=\"stylesheet\" type=\"text/css\"/>,\n",
       " <link href=\"/common/css/old_default.css?20170925160128\" rel=\"stylesheet\" type=\"text/css\"/>,\n",
       " <link href=\"/common/css/old_layout.css?20170925160128\" rel=\"stylesheet\" type=\"text/css\"/>,\n",
       " <link href=\"/common/css/old_common.css?20170925160128\" rel=\"stylesheet\" type=\"text/css\"/>,\n",
       " <link href=\"/common/css/old_super_db.css?20170925160128\" rel=\"stylesheet\" type=\"text/css\"/>,\n",
       " <script src=\"/common/js/default-min.js\" type=\"text/javascript\"></script>]"
      ]
     },
     "execution_count": 5,
     "metadata": {},
     "output_type": "execute_result"
    }
   ],
   "source": [
    "soup.head()"
   ]
  },
  {
   "cell_type": "code",
   "execution_count": 6,
   "metadata": {
    "collapsed": true
   },
   "outputs": [],
   "source": [
    "tags = soup.findAll('div', attrs={'class':'tit3'})"
   ]
  },
  {
   "cell_type": "code",
   "execution_count": 8,
   "metadata": {},
   "outputs": [
    {
     "data": {
      "text/plain": [
       "[<div class=\"tit3\">\n",
       " <a href=\"/movie/bi/mi/basic.nhn?code=161242\" title=\"범죄도시\">범죄도시</a>\n",
       " </div>, <div class=\"tit3\">\n",
       " <a href=\"/movie/bi/mi/basic.nhn?code=129095\" title=\"지오스톰\">지오스톰</a>\n",
       " </div>, <div class=\"tit3\">\n",
       " <a href=\"/movie/bi/mi/basic.nhn?code=154353\" title=\"대장 김창수\">대장 김창수</a>\n",
       " </div>, <div class=\"tit3\">\n",
       " <a href=\"/movie/bi/mi/basic.nhn?code=150637\" title=\"남한산성\">남한산성</a>\n",
       " </div>, <div class=\"tit3\">\n",
       " <a href=\"/movie/bi/mi/basic.nhn?code=157178\" title=\"나는 내일, 어제의 너와 만난다\">나는 내일, 어제의 너와 만난다</a>\n",
       " </div>, <div class=\"tit3\">\n",
       " <a href=\"/movie/bi/mi/basic.nhn?code=88227\" title=\"블레이드 러너 2049\">블레이드 러너 2049</a>\n",
       " </div>, <div class=\"tit3\">\n",
       " <a href=\"/movie/bi/mi/basic.nhn?code=152650\" title=\"마더!\">마더!</a>\n",
       " </div>, <div class=\"tit3\">\n",
       " <a href=\"/movie/bi/mi/basic.nhn?code=140696\" title=\"희생부활자\">희생부활자</a>\n",
       " </div>, <div class=\"tit3\">\n",
       " <a href=\"/movie/bi/mi/basic.nhn?code=149747\" title=\"킹스맨: 골든 서클\">킹스맨: 골든 서클</a>\n",
       " </div>, <div class=\"tit3\">\n",
       " <a href=\"/movie/bi/mi/basic.nhn?code=134898\" title=\"토르: 라그나로크\">토르: 라그나로크</a>\n",
       " </div>, <div class=\"tit3\">\n",
       " <a href=\"/movie/bi/mi/basic.nhn?code=159830\" title=\"너의 췌장을 먹고 싶어\">너의 췌장을 먹고 싶어</a>\n",
       " </div>, <div class=\"tit3\">\n",
       " <a href=\"/movie/bi/mi/basic.nhn?code=137890\" title=\"살인자의 기억법\">살인자의 기억법</a>\n",
       " </div>, <div class=\"tit3\">\n",
       " <a href=\"/movie/bi/mi/basic.nhn?code=159741\" title=\"잠깐만 회사 좀 관두고 올게\">잠깐만 회사 좀 관두고 올게</a>\n",
       " </div>, <div class=\"tit3\">\n",
       " <a href=\"/movie/bi/mi/basic.nhn?code=161850\" title=\"아이 캔 스피크\">아이 캔 스피크</a>\n",
       " </div>, <div class=\"tit3\">\n",
       " <a href=\"/movie/bi/mi/basic.nhn?code=158649\" title=\"잇 컴스 앳 나잇\">잇 컴스 앳 나잇</a>\n",
       " </div>, <div class=\"tit3\">\n",
       " <a href=\"/movie/bi/mi/basic.nhn?code=140806\" title=\"사랑은 없다\">사랑은 없다</a>\n",
       " </div>, <div class=\"tit3\">\n",
       " <a href=\"/movie/bi/mi/basic.nhn?code=149517\" title=\"유리정원\">유리정원</a>\n",
       " </div>, <div class=\"tit3\">\n",
       " <a href=\"/movie/bi/mi/basic.nhn?code=146407\" title=\"다크타워: 희망의 탑\">다크타워: 희망의 탑</a>\n",
       " </div>, <div class=\"tit3\">\n",
       " <a href=\"/movie/bi/mi/basic.nhn?code=153642\" title=\"침묵\">침묵</a>\n",
       " </div>, <div class=\"tit3\">\n",
       " <a href=\"/movie/bi/mi/basic.nhn?code=85579\" title=\"신과함께\">신과함께</a>\n",
       " </div>, <div class=\"tit3\">\n",
       " <a href=\"/movie/bi/mi/basic.nhn?code=70627\" title=\"잃어버린 도시 Z\">잃어버린 도시 Z</a>\n",
       " </div>, <div class=\"tit3\">\n",
       " <a href=\"/movie/bi/mi/basic.nhn?code=164968\" title=\"노 게임 노 라이프 -제로-\">노 게임 노 라이프 -제로-</a>\n",
       " </div>, <div class=\"tit3\">\n",
       " <a href=\"/movie/bi/mi/basic.nhn?code=138601\" title=\"여배우는 오늘도\">여배우는 오늘도</a>\n",
       " </div>, <div class=\"tit3\">\n",
       " <a href=\"/movie/bi/mi/basic.nhn?code=162420\" title=\"미스 프레지던트\">미스 프레지던트</a>\n",
       " </div>, <div class=\"tit3\">\n",
       " <a href=\"/movie/bi/mi/basic.nhn?code=162932\" title=\"채비\">채비</a>\n",
       " </div>, <div class=\"tit3\">\n",
       " <a href=\"/movie/bi/mi/basic.nhn?code=37732\" title=\"루터\">루터</a>\n",
       " </div>, <div class=\"tit3\">\n",
       " <a href=\"/movie/bi/mi/basic.nhn?code=161963\" title=\"아이 앰 히스 레저\">아이 앰 히스 레저</a>\n",
       " </div>, <div class=\"tit3\">\n",
       " <a href=\"/movie/bi/mi/basic.nhn?code=160749\" title=\"부라더\">부라더</a>\n",
       " </div>, <div class=\"tit3\">\n",
       " <a href=\"/movie/bi/mi/basic.nhn?code=137945\" title=\"아메리칸 메이드\">아메리칸 메이드</a>\n",
       " </div>, <div class=\"tit3\">\n",
       " <a href=\"/movie/bi/mi/basic.nhn?code=154573\" title=\"다시 태어나도 우리\">다시 태어나도 우리</a>\n",
       " </div>, <div class=\"tit3\">\n",
       " <a href=\"/movie/bi/mi/basic.nhn?code=137326\" title=\"블랙 팬서\">블랙 팬서</a>\n",
       " </div>, <div class=\"tit3\">\n",
       " <a href=\"/movie/bi/mi/basic.nhn?code=142317\" title=\"미옥\">미옥</a>\n",
       " </div>, <div class=\"tit3\">\n",
       " <a href=\"/movie/bi/mi/basic.nhn?code=144215\" title=\"아토믹 블론드\">아토믹 블론드</a>\n",
       " </div>, <div class=\"tit3\">\n",
       " <a href=\"/movie/bi/mi/basic.nhn?code=116866\" title=\"저스티스 리그\">저스티스 리그</a>\n",
       " </div>, <div class=\"tit3\">\n",
       " <a href=\"/movie/bi/mi/basic.nhn?code=152268\" title=\"직쏘\">직쏘</a>\n",
       " </div>, <div class=\"tit3\">\n",
       " <a href=\"/movie/bi/mi/basic.nhn?code=121052\" title=\"넛잡 2\">넛잡 2</a>\n",
       " </div>, <div class=\"tit3\">\n",
       " <a href=\"/movie/bi/mi/basic.nhn?code=163503\" title=\"용의 치과의사\">용의 치과의사</a>\n",
       " </div>, <div class=\"tit3\">\n",
       " <a href=\"/movie/bi/mi/basic.nhn?code=160009\" title=\"내 친구 정일우\">내 친구 정일우</a>\n",
       " </div>, <div class=\"tit3\">\n",
       " <a href=\"/movie/bi/mi/basic.nhn?code=152267\" title=\"22년째의 고백 - 내가 살인범이다 -\">22년째의 고백 - 내가 살인범이다 -</a>\n",
       " </div>, <div class=\"tit3\">\n",
       " <a href=\"/movie/bi/mi/basic.nhn?code=152385\" title=\"꾼\">꾼</a>\n",
       " </div>, <div class=\"tit3\">\n",
       " <a href=\"/movie/bi/mi/basic.nhn?code=143469\" title=\"어메이징 메리\">어메이징 메리</a>\n",
       " </div>, <div class=\"tit3\">\n",
       " <a href=\"/movie/bi/mi/basic.nhn?code=106069\" title=\"히든 아이덴티티\">히든 아이덴티티</a>\n",
       " </div>, <div class=\"tit3\">\n",
       " <a href=\"/movie/bi/mi/basic.nhn?code=140622\" title=\"내 사랑 왕가흔\">내 사랑 왕가흔</a>\n",
       " </div>, <div class=\"tit3\">\n",
       " <a href=\"/movie/bi/mi/basic.nhn?code=131440\" title=\"테이킹\">테이킹</a>\n",
       " </div>, <div class=\"tit3\">\n",
       " <a href=\"/movie/bi/mi/basic.nhn?code=162415\" title=\"가을 우체국\">가을 우체국</a>\n",
       " </div>, <div class=\"tit3\">\n",
       " <a href=\"/movie/bi/mi/basic.nhn?code=151559\" title=\"새벽의 저주: 좀비랜드\">새벽의 저주: 좀비랜드</a>\n",
       " </div>, <div class=\"tit3\">\n",
       " <a href=\"/movie/bi/mi/basic.nhn?code=155715\" title=\"7호실\">7호실</a>\n",
       " </div>, <div class=\"tit3\">\n",
       " <a href=\"/movie/bi/mi/basic.nhn?code=161129\" title=\"스코어: 영화음악의 모든 것\">스코어: 영화음악의 모든 것</a>\n",
       " </div>, <div class=\"tit3\">\n",
       " <a href=\"/movie/bi/mi/basic.nhn?code=155665\" title=\"강철비\">강철비</a>\n",
       " </div>, <div class=\"tit3\">\n",
       " <a href=\"/movie/bi/mi/basic.nhn?code=143390\" title=\"우리의 20세기\">우리의 20세기</a>\n",
       " </div>]"
      ]
     },
     "execution_count": 8,
     "metadata": {},
     "output_type": "execute_result"
    }
   ],
   "source": [
    "tags"
   ]
  },
  {
   "cell_type": "code",
   "execution_count": 22,
   "metadata": {},
   "outputs": [
    {
     "name": "stdout",
     "output_type": "stream",
     "text": [
      "범죄도시\n",
      "지오스톰\n",
      "대장 김창수\n",
      "남한산성\n",
      "블레이드 러너 2049\n",
      "희생부활자\n",
      "나는 내일, 어제의 너와 만난다\n",
      "킹스맨: 골든 서클\n",
      "마더!\n",
      "너의 췌장을 먹고 싶어\n",
      "아이 캔 스피크\n",
      "토르: 라그나로크\n",
      "잠깐만 회사 좀 관두고 올게\n",
      "살인자의 기억법\n",
      "사랑은 없다\n",
      "잇 컴스 앳 나잇\n",
      "다크타워: 희망의 탑\n",
      "신과함께\n",
      "유리정원\n",
      "침묵\n",
      "루터\n",
      "잃어버린 도시 Z\n",
      "여배우는 오늘도\n",
      "노 게임 노 라이프 -제로-\n",
      "미스 프레지던트\n",
      "아메리칸 메이드\n",
      "채비\n",
      "아토믹 블론드\n",
      "부라더\n",
      "아이 앰 히스 레저\n",
      "다시 태어나도 우리\n",
      "미옥\n",
      "블랙 팬서\n",
      "저스티스 리그\n",
      "용의 치과의사\n",
      "넛잡 2\n",
      "어메이징 메리\n",
      "직쏘\n",
      "7호실\n",
      "가을 우체국\n",
      "꾼\n",
      "히든 아이덴티티\n",
      "22년째의 고백 - 내가 살인범이다 -\n",
      "기억의 밤\n",
      "강철비\n",
      "내 친구 정일우\n",
      "스코어: 영화음악의 모든 것\n",
      "우리의 20세기\n",
      "해피 데스데이\n",
      "블레이드 러너\n"
     ]
    }
   ],
   "source": [
    "for tag in tags:\n",
    "    print(tag.a['title'])"
   ]
  },
  {
   "cell_type": "code",
   "execution_count": null,
   "metadata": {
    "collapsed": true
   },
   "outputs": [],
   "source": []
  }
 ],
 "metadata": {
  "kernelspec": {
   "display_name": "Python 3",
   "language": "python",
   "name": "python3"
  },
  "language_info": {
   "codemirror_mode": {
    "name": "ipython",
    "version": 3
   },
   "file_extension": ".py",
   "mimetype": "text/x-python",
   "name": "python",
   "nbconvert_exporter": "python",
   "pygments_lexer": "ipython3",
   "version": "3.6.2"
  }
 },
 "nbformat": 4,
 "nbformat_minor": 2
}

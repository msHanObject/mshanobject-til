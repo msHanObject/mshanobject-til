{
 "cells": [
  {
   "cell_type": "code",
   "execution_count": 24,
   "metadata": {},
   "outputs": [],
   "source": [
    "import urllib.request\n",
    "import json"
   ]
  },
  {
   "cell_type": "code",
   "execution_count": 35,
   "metadata": {
    "collapsed": true
   },
   "outputs": [],
   "source": [
    "def get_request_url(url):\n",
    "    req = urllib.request.Request(url)\n",
    "    req.add_header(\"X-Naver-Client-id\", \"bg8bHjj3T_f8BIOx9EbI\")\n",
    "    req.add_header(\"X-Naver-Client-Secret\", \"y4BsA_TfTD\")\n",
    "    try:\n",
    "        response = urllib.request.urlopen(req)\n",
    "        if response.getcode() == 200:\n",
    "            return response.read().decode('utf-8')\n",
    "    except Exception as e:\n",
    "        return None"
   ]
  },
  {
   "cell_type": "code",
   "execution_count": 43,
   "metadata": {},
   "outputs": [],
   "source": [
    "def getNaverSearchResult(sNode, search_text, page_start, display):\n",
    "    base =\"https://openapi.naver.com/v1/search\"\n",
    "    node =\"/%s.json\" % sNode\n",
    "    parameters = \"?query=%s&start=%s&display=%s\" % (urllib.parse.quote(search_text), page_start, display)\n",
    "    url = base+node+parameters\n",
    "    retData = get_request_url(url)\n",
    "    \n",
    "    if (retData == None):\n",
    "        return None\n",
    "    else:\n",
    "        return json.loads(retData)"
   ]
  },
  {
   "cell_type": "code",
   "execution_count": 40,
   "metadata": {},
   "outputs": [],
   "source": [
    "def getPostData(post, jsonResult):\n",
    "    title = post['title']\n",
    "    description = post['description']\n",
    "    org_link = post['originallink']\n",
    "    link = post['link']\n",
    "    \n",
    "    pDate = post['pubDate']\n",
    "    \n",
    "    jsonResult.append({'title':title, 'description':description, 'org_link':org_link, 'link':link, 'pDate':pDate})\n",
    "    return"
   ]
  },
  {
   "cell_type": "code",
   "execution_count": 44,
   "metadata": {},
   "outputs": [],
   "source": [
    "def main():\n",
    "    jsonResult = []\n",
    "    \n",
    "    sNode = 'news'\n",
    "    search_text = '오재일'\n",
    "    display_count = 100\n",
    "    \n",
    "    jsonSearch = getNaverSearchResult(sNode, search_text, 1, display_count)\n",
    "    \n",
    "    while((jsonSearch != None) and (jsonSearch['display'] != 0)):\n",
    "        for post in jsonSearch['items']:\n",
    "            getPostData(post, jsonResult)\n",
    "            \n",
    "        nStart = jsonSearch['start'] + jsonSearch['display']\n",
    "        jsonSearch = getNaverSearchResult(sNode, search_text, nStart, display_count)\n",
    "        \n",
    "    with open('%s_naver_%s.json' % (search_text, sNode), 'w', encoding='utf8') as outfile:\n",
    "        retJson = json.dumps(jsonResult,\n",
    "                            indent=4, sort_keys=True,\n",
    "                            ensure_ascii=False)\n",
    "        outfile.write(retJson)\n",
    "        \n",
    "    print ('%s_naver_%s.json SAVED' % (search_text, sNode))"
   ]
  },
  {
   "cell_type": "code",
   "execution_count": 45,
   "metadata": {
    "scrolled": true
   },
   "outputs": [
    {
     "name": "stdout",
     "output_type": "stream",
     "text": [
      "오재일_naver_news.json SAVED\n"
     ]
    }
   ],
   "source": [
    "if __name__ == '__main__':\n",
    "    main()"
   ]
  },
  {
   "cell_type": "code",
   "execution_count": null,
   "metadata": {
    "collapsed": true
   },
   "outputs": [],
   "source": []
  }
 ],
 "metadata": {
  "kernelspec": {
   "display_name": "Python 3",
   "language": "python",
   "name": "python3"
  },
  "language_info": {
   "codemirror_mode": {
    "name": "ipython",
    "version": 3
   },
   "file_extension": ".py",
   "mimetype": "text/x-python",
   "name": "python",
   "nbconvert_exporter": "python",
   "pygments_lexer": "ipython3",
   "version": "3.6.2"
  }
 },
 "nbformat": 4,
 "nbformat_minor": 2
}

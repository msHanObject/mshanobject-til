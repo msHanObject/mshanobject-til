{
 "cells": [
  {
   "cell_type": "code",
   "execution_count": 2,
   "metadata": {
    "collapsed": true
   },
   "outputs": [],
   "source": [
    "import urllib.request\n",
    "import json\n",
    "import datetime"
   ]
  },
  {
   "cell_type": "code",
   "execution_count": 3,
   "metadata": {
    "collapsed": true
   },
   "outputs": [],
   "source": [
    "import matplotlib.pyplot as plt\n",
    "import matplotlib\n",
    "from matplotlib import font_manager, rc"
   ]
  },
  {
   "cell_type": "code",
   "execution_count": 4,
   "metadata": {
    "collapsed": true
   },
   "outputs": [],
   "source": [
    "def get_request_url(url):\n",
    "    req = urllib.request.Request(url)\n",
    "    \n",
    "    try:\n",
    "        response = urllib.request.urlopen(req)\n",
    "        if response.getcode() == 200:\n",
    "            print (\"[%s] Url Request Success\" % datetime.datetime.now())\n",
    "            return response.read().decode('utf-8')\n",
    "    except Exception as e:\n",
    "        print(e)\n",
    "        print(\"[%s] Error for URL : %s\" % (datetime.datetime.now(), url))\n",
    "        return None"
   ]
  },
  {
   "cell_type": "code",
   "execution_count": 5,
   "metadata": {
    "collapsed": true
   },
   "outputs": [],
   "source": [
    "def getNatVisitor(yyyymm, nat_cd, ed_cd):\n",
    "    access_key =\"lUb6ajXWCK0qhkX2v7TMP2TtcGNlJXgtfyoipeGaet9JEpCSgg6CNfqzWN%2BABnLF9gTFVgAtjNQe5Kh2ohxzyQ%3D%3D\"\n",
    "    end_point = \"http://openapi.tour.go.kr/openapi/service/EdrcntTourismStatsService/getEdrcntTourismStatsList\"\n",
    "    \n",
    "    parameters = \"?_type=json&serviceKey=\" + access_key\n",
    "    parameters += \"&YM=\" + yyyymm\n",
    "    parameters += \"&NAT_CD=\" + nat_cd\n",
    "    parameters += \"&ED_CD=\" + ed_cd\n",
    "    \n",
    "    url = end_point + parameters\n",
    "    \n",
    "    retData = get_request_url(url)\n",
    "    \n",
    "    if (retData == None):\n",
    "        return None\n",
    "    else:\n",
    "        return json.loads(retData)"
   ]
  },
  {
   "cell_type": "code",
   "execution_count": 6,
   "metadata": {},
   "outputs": [
    {
     "name": "stdout",
     "output_type": "stream",
     "text": [
      "[2017-10-23 15:53:42.437271] Url Request Success\n",
      "[2017-10-23 15:53:42.548000] Url Request Success\n",
      "[2017-10-23 15:53:42.655869] Url Request Success\n",
      "[2017-10-23 15:53:42.775091] Url Request Success\n",
      "[2017-10-23 15:53:42.884959] Url Request Success\n",
      "[2017-10-23 15:53:42.988300] Url Request Success\n",
      "[2017-10-23 15:53:43.087066] Url Request Success\n",
      "[2017-10-23 15:53:43.177016] Url Request Success\n",
      "[2017-10-23 15:53:43.292196] Url Request Success\n",
      "[2017-10-23 15:53:43.397147] Url Request Success\n",
      "[2017-10-23 15:53:43.506643] Url Request Success\n",
      "[2017-10-23 15:53:43.608145] Url Request Success\n",
      "[2017-10-23 15:53:43.723727] Url Request Success\n",
      "[2017-10-23 15:53:43.833038] Url Request Success\n",
      "[2017-10-23 15:53:43.947159] Url Request Success\n",
      "[2017-10-23 15:53:44.055722] Url Request Success\n",
      "[2017-10-23 15:53:44.147400] Url Request Success\n",
      "[2017-10-23 15:53:44.247981] Url Request Success\n",
      "[2017-10-23 15:53:44.368541] Url Request Success\n",
      "[2017-10-23 15:53:44.469801] Url Request Success\n",
      "[2017-10-23 15:53:44.568074] Url Request Success\n",
      "[2017-10-23 15:53:44.667136] Url Request Success\n",
      "[2017-10-23 15:53:44.757063] Url Request Success\n",
      "[2017-10-23 15:53:44.868095] Url Request Success\n",
      "[2017-10-23 15:53:44.981235] Url Request Success\n",
      "[2017-10-23 15:53:45.104957] Url Request Success\n",
      "[2017-10-23 15:53:45.207044] Url Request Success\n",
      "[2017-10-23 15:53:45.315739] Url Request Success\n",
      "[2017-10-23 15:53:45.418673] Url Request Success\n",
      "[2017-10-23 15:53:45.518756] Url Request Success\n",
      "[2017-10-23 15:53:45.636989] Url Request Success\n",
      "[2017-10-23 15:53:45.726141] Url Request Success\n",
      "[2017-10-23 15:53:45.842788] Url Request Success\n",
      "[2017-10-23 15:53:45.965172] Url Request Success\n",
      "[2017-10-23 15:53:46.068028] Url Request Success\n",
      "[2017-10-23 15:53:46.183879] Url Request Success\n",
      "[2017-10-23 15:53:46.296895] Url Request Success\n",
      "[2017-10-23 15:53:46.395695] Url Request Success\n",
      "[2017-10-23 15:53:46.506659] Url Request Success\n",
      "[2017-10-23 15:53:46.613965] Url Request Success\n",
      "[2017-10-23 15:53:46.720067] Url Request Success\n",
      "[2017-10-23 15:53:46.825790] Url Request Success\n",
      "[2017-10-23 15:53:46.946896] Url Request Success\n",
      "[2017-10-23 15:53:47.047129] Url Request Success\n",
      "[2017-10-23 15:53:47.148134] Url Request Success\n",
      "[2017-10-23 15:53:47.242894] Url Request Success\n",
      "[2017-10-23 15:53:47.374975] Url Request Success\n",
      "[2017-10-23 15:53:47.467037] Url Request Success\n",
      "[2017-10-23 15:53:47.567821] Url Request Success\n",
      "[2017-10-23 15:53:47.656902] Url Request Success\n",
      "[2017-10-23 15:53:47.758136] Url Request Success\n",
      "[2017-10-23 15:53:47.876655] Url Request Success\n",
      "[2017-10-23 15:53:47.975848] Url Request Success\n",
      "[2017-10-23 15:53:48.075056] Url Request Success\n",
      "[2017-10-23 15:53:48.181791] Url Request Success\n",
      "[2017-10-23 15:53:48.304045] Url Request Success\n",
      "[2017-10-23 15:53:48.414497] Url Request Success\n",
      "[2017-10-23 15:53:48.507054] Url Request Success\n",
      "[2017-10-23 15:53:48.608179] Url Request Success\n",
      "[2017-10-23 15:53:48.714156] Url Request Success\n"
     ]
    }
   ],
   "source": [
    "#def main():\n",
    "\n",
    "jsonResult = []\n",
    "\n",
    "    #중국: 112/ 일본: 130/ 미국: 275\n",
    "national_code =\"130\"\n",
    "\n",
    "ed_cd = \"E\"\n",
    "\n",
    "nStartYear = 2011\n",
    "nEndYear = 2016\n",
    "for year in range(nStartYear, nEndYear):\n",
    "    for month in range(1, 13):\n",
    "        \n",
    "        yyyymm = \"%04d%02d\" % (year,month)\n",
    "        jsonData = getNatVisitor(yyyymm, national_code, ed_cd)\n",
    "\n",
    "        if (jsonData['response']['header']['resultMsg'] == 'OK'):\n",
    "            krName = jsonData['response']['body']['items']['item']['natKorNm']\n",
    "            krName = krName.replace(' ', '')\n",
    "            iTotalVisit = jsonData['response']['body']['items']['item']['num']\n",
    "            jsonResult.append({'nat_name':krName, 'nat_cd':national_code,\n",
    "                              'yyyymm':yyyymm, 'visit_cnt':iTotalVisit})\n",
    "        else:\n",
    "            krName=''\n",
    "            break\n",
    "\n",
    "cnVisit = []\n",
    "VisitYM = []\n",
    "index = []\n",
    "i = 0\n",
    "for item in jsonResult:\n",
    "    index.append(i)\n",
    "    cnVisit.append(item['visit_cnt'])\n",
    "    VisitYM.append(item['yyyymm'])\n",
    "    i = i +1\n",
    "\n",
    "with open('%s(%s)_해외방문객정보_%d_%d.json' % (krName, national_code, nStartYear, nEndYear-1),\n",
    "         'w', encoding='utf-8') as outfile:\n",
    "    retJson = json.dumps(jsonResult,\n",
    "                        indent = 4, sort_keys = True,\n",
    "                        ensure_ascii = False)\n",
    "    outfile.write(retJson)"
   ]
  },
  {
   "cell_type": "code",
   "execution_count": 7,
   "metadata": {},
   "outputs": [
    {
     "data": {
      "image/png": "[encoded data removed]",
      "text/plain": [
       "<matplotlib.figure.Figure at 0x1078b28d0>"
      ]
     },
     "metadata": {},
     "output_type": "display_data"
    }
   ],
   "source": [
    "plt.xticks(index, VisitYM)\n",
    "plt.plot(index,cnVisit)\n",
    "plt.xlabel('Month')\n",
    "plt.ylabel('Peoples')\n",
    "plt.grid(True)\n",
    "plt.show()"
   ]
  },
  {
   "cell_type": "code",
   "execution_count": null,
   "metadata": {
    "collapsed": true
   },
   "outputs": [],
   "source": []
  }
 ],
 "metadata": {
  "kernelspec": {
   "display_name": "Python 3",
   "language": "python",
   "name": "python3"
  },
  "language_info": {
   "codemirror_mode": {
    "name": "ipython",
    "version": 3
   },
   "file_extension": ".py",
   "mimetype": "text/x-python",
   "name": "python",
   "nbconvert_exporter": "python",
   "pygments_lexer": "ipython3",
   "version": "3.6.2"
  }
 },
 "nbformat": 4,
 "nbformat_minor": 2
}

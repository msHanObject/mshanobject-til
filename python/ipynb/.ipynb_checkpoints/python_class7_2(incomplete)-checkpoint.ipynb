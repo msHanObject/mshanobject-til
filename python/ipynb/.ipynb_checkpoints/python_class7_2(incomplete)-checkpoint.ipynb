{
 "cells": [
  {
   "cell_type": "code",
   "execution_count": 1,
   "metadata": {
    "collapsed": true
   },
   "outputs": [],
   "source": [
    "import urllib.request\n",
    "import json\n",
    "import math"
   ]
  },
  {
   "cell_type": "code",
   "execution_count": 2,
   "metadata": {
    "collapsed": true
   },
   "outputs": [],
   "source": [
    "def get_request_url(url):\n",
    "    req=urllib.request.Request(url)\n",
    "    try:\n",
    "        response=urllib.request.urlopen(req)\n",
    "        return response.read().decode('utf8')\n",
    "    except Exception as e:\n",
    "        print(e)\n",
    "        return None"
   ]
  },
  {
   "cell_type": "code",
   "execution_count": 7,
   "metadata": {
    "collapsed": true
   },
   "outputs": [],
   "source": [
    "def getSWIndustryStatistics(yyyy, YYYY, nPagenum, nItems):\n",
    "    access_key=\"lUb6ajXWCK0qhkX2v7TMP2TtcGNlJXgtfyoipeGaet9JEpCSgg6CNfqzWN%2BABnLF9gTFVgAtjNQe5Kh2ohxzyQ%3D%3D\"\n",
    "    end_point=\"http://openapi.itfind.or.kr/openapi/service/SWIndustryStatisticsService/getEtcSWIndustDmandFrcstExaminInfo\"\n",
    "    parameters = \"?_type=json&serviceKey=\" + access_key\n",
    "    parameters += \"&startYY=\" + yyyy\n",
    "    parameters += \"&endYY=\" + YYYY\n",
    "    url = end_point + parameters\n",
    "    retData = get_request_url(url)\n",
    "    if (retData == None):\n",
    "        return None\n",
    "    else:\n",
    "        return json.loads(retData)"
   ]
  },
  {
   "cell_type": "code",
   "execution_count": 4,
   "metadata": {
    "collapsed": true
   },
   "outputs": [],
   "source": [
    "def getTourPointData(item, yyyy, jsonResult):\n",
    "    addrCd = 0 if 'titleCm' not in item.keys() else item['addrCd']\n",
    "    gungu = '' if 'gungu' not in item.keys() else item['gungu']\n",
    "    sido = '' if 'sido' not in item.keys() else item['sido']\n",
    "    resNm = '' if 'resNm' not in item.keys() else item['resNm']\n",
    "    rnum = 0 if 'rnum' not in item.keys() else item['rnum']\n",
    "    ForNum = 0 if 'csForCnt' not in item.keys() else item['csForCnt']\n",
    "    NatNum = 0 if 'csNatCnt' not in item.keys() else item['csNatCnt']\n",
    "    jsonResult.append({'yyyymm':yyyymm, 'addrCd':addrCd, 'gungu':gungu, 'sido':sido, 'resNm':resNm, 'rnum':rnum, 'ForNum':ForNum, 'NatNum':NatNum})\n",
    "    return"
   ]
  },
  {
   "cell_type": "code",
   "execution_count": 5,
   "metadata": {
    "collapsed": true
   },
   "outputs": [],
   "source": [
    "def main():\n",
    "    jsonResult=[]\n",
    "    sido='서울특별시'\n",
    "    gungu=''\n",
    "    nPagenum=1\n",
    "    nTotal=0\n",
    "    nItems=100\n",
    "    nStartYear=2011\n",
    "    nEndYear=2017\n",
    "    \n",
    "    for year in range(nStartYear, nEndYear):\n",
    "        for month in range(1, 13):\n",
    "            yyyymm = str(year)+str(month)\n",
    "            nPagenum = 1\n",
    "            while True:\n",
    "                jsonData = getTourPointVisitor(yyyymm, sido, gungu, nPagenum, nItems)\n",
    "                if (jsonData['response']['header']['resultMsg'] == 'OK'):\n",
    "                    nTotal = jsonData['response']['body']['totalCount']\n",
    "                    if nTotal == 0:\n",
    "                        break\n",
    "                    for item in jsonData['response']['body']['items']['item']:\n",
    "                        getTourPointData(item, yyyymm, jsonResult)\n",
    "                    nPage = math.ceil(nTotal / 100)\n",
    "                    if (nPagenum == nPage):\n",
    "                        break\n",
    "                    nPagenum += 1\n",
    "                else:\n",
    "                    break\n",
    "            \n",
    "    with open(\"%s_관광지입장정보_%d_%d.json\" %(sido, nStartYear, nEndYear-1), 'w', encoding='utf8') as outFile:\n",
    "        retJson = json.dumps(jsonResult, indent=4, sort_keys=True, ensure_ascii=False)\n",
    "        outFile.write(retJson)"
   ]
  },
  {
   "cell_type": "code",
   "execution_count": null,
   "metadata": {
    "collapsed": true
   },
   "outputs": [],
   "source": [
    "if __name__=='__main__':\n",
    "    main()"
   ]
  }
 ],
 "metadata": {
  "kernelspec": {
   "display_name": "Python 3",
   "language": "python",
   "name": "python3"
  },
  "language_info": {
   "codemirror_mode": {
    "name": "ipython",
    "version": 3
   },
   "file_extension": ".py",
   "mimetype": "text/x-python",
   "name": "python",
   "nbconvert_exporter": "python",
   "pygments_lexer": "ipython3",
   "version": "3.6.2"
  }
 },
 "nbformat": 4,
 "nbformat_minor": 2
}

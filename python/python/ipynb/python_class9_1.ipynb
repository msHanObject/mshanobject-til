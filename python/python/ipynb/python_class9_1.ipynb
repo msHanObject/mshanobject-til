{
 "cells": [
  {
   "cell_type": "code",
   "execution_count": 35,
   "metadata": {
    "collapsed": true
   },
   "outputs": [],
   "source": [
    "import urllib.request\n",
    "import json\n",
    "import datetime"
   ]
  },
  {
   "cell_type": "code",
   "execution_count": 36,
   "metadata": {},
   "outputs": [],
   "source": [
    "import matplotlib.pyplot as plt\n",
    "import matplotlib\n",
    "from matplotlib import font_manager, rc"
   ]
  },
  {
   "cell_type": "code",
   "execution_count": 37,
   "metadata": {},
   "outputs": [],
   "source": [
    "def get_request_url(url):\n",
    "    req = urllib.request.Request(url)\n",
    "    \n",
    "    try:\n",
    "        response = urllib.request.urlopen(req)\n",
    "        if response.getcode() == 200:\n",
    "            print (\"[%s] Url Request Success\" % datetime.datetime.now())\n",
    "            return response.read().decode('utf-8')\n",
    "    except Exception as e:\n",
    "        print(e)\n",
    "        print(\"[%s] Error for URL : %s\" % (datetime.datetime.now(), url))\n",
    "        return None"
   ]
  },
  {
   "cell_type": "code",
   "execution_count": 40,
   "metadata": {
    "collapsed": true
   },
   "outputs": [],
   "source": [
    "def getNatVisitor(yyyymm, nat_cd, ed_cd):\n",
    "    access_key =\"lUb6ajXWCK0qhkX2v7TMP2TtcGNlJXgtfyoipeGaet9JEpCSgg6CNfqzWN%2BABnLF9gTFVgAtjNQe5Kh2ohxzyQ%3D%3D\"\n",
    "    end_point = \"http://openapi.tour.go.kr/openapi/service/EdrcntTourismStatsService/getEdrcntTourismStatsList\"\n",
    "    \n",
    "    parameters = \"?_type=json&serviceKey=\" + access_key\n",
    "    parameters += \"&YM=\" + yyyymm\n",
    "    parameters += \"&NAT_CD=\" + nat_cd\n",
    "    parameters += \"&ED_CD=\" + ed_cd\n",
    "    \n",
    "    url = end_point + parameters\n",
    "    \n",
    "    retData = get_request_url(url)\n",
    "    \n",
    "    if (retData == None):\n",
    "        return None\n",
    "    else:\n",
    "        return json.loads(retData)"
   ]
  },
  {
   "cell_type": "code",
   "execution_count": 41,
   "metadata": {},
   "outputs": [
    {
     "name": "stdout",
     "output_type": "stream",
     "text": [
      "[2017-10-23 15:47:43.257234] Url Request Success\n",
      "[2017-10-23 15:47:43.366379] Url Request Success\n",
      "[2017-10-23 15:47:43.476094] Url Request Success\n",
      "[2017-10-23 15:47:43.576388] Url Request Success\n",
      "[2017-10-23 15:47:43.683181] Url Request Success\n",
      "[2017-10-23 15:47:43.777459] Url Request Success\n",
      "[2017-10-23 15:47:43.876275] Url Request Success\n",
      "[2017-10-23 15:47:43.978328] Url Request Success\n",
      "[2017-10-23 15:47:44.095168] Url Request Success\n",
      "[2017-10-23 15:47:44.245094] Url Request Success\n",
      "[2017-10-23 15:47:44.353292] Url Request Success\n",
      "[2017-10-23 15:47:44.458219] Url Request Success\n",
      "[2017-10-23 15:47:44.573299] Url Request Success\n",
      "[2017-10-23 15:47:44.677136] Url Request Success\n",
      "[2017-10-23 15:47:44.780167] Url Request Success\n",
      "[2017-10-23 15:47:44.875965] Url Request Success\n",
      "[2017-10-23 15:47:44.977102] Url Request Success\n",
      "[2017-10-23 15:47:45.074991] Url Request Success\n",
      "[2017-10-23 15:47:45.175962] Url Request Success\n",
      "[2017-10-23 15:47:45.276366] Url Request Success\n",
      "[2017-10-23 15:47:45.376499] Url Request Success\n",
      "[2017-10-23 15:47:45.496074] Url Request Success\n",
      "[2017-10-23 15:47:45.605268] Url Request Success\n",
      "[2017-10-23 15:47:45.708281] Url Request Success\n",
      "[2017-10-23 15:47:45.795188] Url Request Success\n",
      "[2017-10-23 15:47:45.906367] Url Request Success\n",
      "[2017-10-23 15:47:46.277405] Url Request Success\n",
      "[2017-10-23 15:47:46.605191] Url Request Success\n",
      "[2017-10-23 15:47:46.977903] Url Request Success\n",
      "[2017-10-23 15:47:47.080326] Url Request Success\n",
      "[2017-10-23 15:47:47.188706] Url Request Success\n",
      "[2017-10-23 15:47:47.295178] Url Request Success\n",
      "[2017-10-23 15:47:47.396238] Url Request Success\n",
      "[2017-10-23 15:47:47.495172] Url Request Success\n",
      "[2017-10-23 15:47:47.595192] Url Request Success\n",
      "[2017-10-23 15:47:47.695198] Url Request Success\n",
      "[2017-10-23 15:47:47.797209] Url Request Success\n",
      "[2017-10-23 15:47:47.896315] Url Request Success\n",
      "[2017-10-23 15:47:47.995199] Url Request Success\n",
      "[2017-10-23 15:47:48.110506] Url Request Success\n",
      "[2017-10-23 15:47:48.222312] Url Request Success\n",
      "[2017-10-23 15:47:48.325335] Url Request Success\n",
      "[2017-10-23 15:47:48.427385] Url Request Success\n",
      "[2017-10-23 15:47:48.526296] Url Request Success\n",
      "[2017-10-23 15:47:48.629207] Url Request Success\n",
      "[2017-10-23 15:47:48.977228] Url Request Success\n",
      "[2017-10-23 15:47:49.247294] Url Request Success\n",
      "[2017-10-23 15:47:49.337431] Url Request Success\n",
      "[2017-10-23 15:47:49.436276] Url Request Success\n",
      "[2017-10-23 15:47:49.535244] Url Request Success\n",
      "[2017-10-23 15:47:49.636136] Url Request Success\n",
      "[2017-10-23 15:47:49.735646] Url Request Success\n",
      "[2017-10-23 15:47:49.845060] Url Request Success\n",
      "[2017-10-23 15:47:49.947537] Url Request Success\n",
      "[2017-10-23 15:47:50.045055] Url Request Success\n",
      "[2017-10-23 15:47:50.146072] Url Request Success\n",
      "[2017-10-23 15:47:50.245243] Url Request Success\n",
      "[2017-10-23 15:47:50.347074] Url Request Success\n",
      "[2017-10-23 15:47:50.445201] Url Request Success\n",
      "[2017-10-23 15:47:50.546368] Url Request Success\n"
     ]
    }
   ],
   "source": [
    "#def main():\n",
    "\n",
    "jsonResult = []\n",
    "\n",
    "    #중국: 112/ 일본: 130/ 미국: 275\n",
    "national_code =\"275\"\n",
    "\n",
    "ed_cd = \"E\"\n",
    "\n",
    "nStartYear = 2011\n",
    "nEndYear = 2016\n",
    "for year in range(nStartYear, nEndYear):\n",
    "    for month in range(1, 13):\n",
    "        \n",
    "        yyyymm = \"%04d%02d\" % (year,month)\n",
    "        jsonData = getNatVisitor(yyyymm, national_code, ed_cd)\n",
    "\n",
    "        if (jsonData['response']['header']['resultMsg'] == 'OK'):\n",
    "            krName = jsonData['response']['body']['items']['item']['natKorNm']\n",
    "            krName = krName.replace(' ', '')\n",
    "            iTotalVisit = jsonData['response']['body']['items']['item']['num']\n",
    "            jsonResult.append({'nat_name':krName, 'nat_cd':national_code,\n",
    "                              'yyyymm':yyyymm, 'visit_cnt':iTotalVisit})\n",
    "        else:\n",
    "            krName=''\n",
    "            break\n",
    "\n",
    "cnVisit = []\n",
    "VisitYM = []\n",
    "index = []\n",
    "i = 0\n",
    "for item in jsonResult:\n",
    "    index.append(i)\n",
    "    cnVisit.append(item['visit_cnt'])\n",
    "    VisitYM.append(item['yyyymm'])\n",
    "    i = i +1\n",
    "\n",
    "with open('%s(%s)_해외방문객정보_%d_%d.json' % (krName, national_code, nStartYear, nEndYear-1),\n",
    "         'w', encoding='utf-8') as outfile:\n",
    "    retJson = json.dumps(jsonResult,\n",
    "                        indent = 4, sort_keys = True,\n",
    "                        ensure_ascii = False)\n",
    "    outfile.write(retJson)"
   ]
  },
  {
   "cell_type": "code",
   "execution_count": 42,
   "metadata": {},
   "outputs": [
    {
     "data": {
      "image/png": "[encoded data removed]",
      "text/plain": [
       "<matplotlib.figure.Figure at 0x112d0e0f0>"
      ]
     },
     "metadata": {},
     "output_type": "display_data"
    }
   ],
   "source": [
    "plt.xticks(index, VisitYM)\n",
    "plt.plot(index,cnVisit)\n",
    "plt.xlabel('Month')\n",
    "plt.ylabel('Peoples')\n",
    "plt.grid(True)\n",
    "plt.show()"
   ]
  },
  {
   "cell_type": "code",
   "execution_count": null,
   "metadata": {
    "collapsed": true
   },
   "outputs": [],
   "source": []
  }
 ],
 "metadata": {
  "kernelspec": {
   "display_name": "Python 3",
   "language": "python",
   "name": "python3"
  },
  "language_info": {
   "codemirror_mode": {
    "name": "ipython",
    "version": 3
   },
   "file_extension": ".py",
   "mimetype": "text/x-python",
   "name": "python",
   "nbconvert_exporter": "python",
   "pygments_lexer": "ipython3",
   "version": "3.6.2"
  }
 },
 "nbformat": 4,
 "nbformat_minor": 2
}

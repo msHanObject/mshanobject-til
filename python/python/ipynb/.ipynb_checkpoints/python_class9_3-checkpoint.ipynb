{
 "cells": [
  {
   "cell_type": "code",
   "execution_count": 1,
   "metadata": {
    "collapsed": true
   },
   "outputs": [],
   "source": [
    "import urllib.request\n",
    "import json\n",
    "import datetime"
   ]
  },
  {
   "cell_type": "code",
   "execution_count": 2,
   "metadata": {
    "collapsed": true
   },
   "outputs": [],
   "source": [
    "import matplotlib.pyplot as plt\n",
    "import matplotlib\n",
    "from matplotlib import font_manager, rc"
   ]
  },
  {
   "cell_type": "code",
   "execution_count": 3,
   "metadata": {
    "collapsed": true
   },
   "outputs": [],
   "source": [
    "def get_request_url(url):\n",
    "    req = urllib.request.Request(url)\n",
    "    \n",
    "    try:\n",
    "        response = urllib.request.urlopen(req)\n",
    "        if response.getcode() == 200:\n",
    "            print (\"[%s] Url Request Success\" % datetime.datetime.now())\n",
    "            return response.read().decode('utf-8')\n",
    "    except Exception as e:\n",
    "        print(e)\n",
    "        print(\"[%s] Error for URL : %s\" % (datetime.datetime.now(), url))\n",
    "        return None"
   ]
  },
  {
   "cell_type": "code",
   "execution_count": 4,
   "metadata": {
    "collapsed": true
   },
   "outputs": [],
   "source": [
    "def getNatVisitor(yyyymm, nat_cd, ed_cd):\n",
    "    access_key =\"lUb6ajXWCK0qhkX2v7TMP2TtcGNlJXgtfyoipeGaet9JEpCSgg6CNfqzWN%2BABnLF9gTFVgAtjNQe5Kh2ohxzyQ%3D%3D\"\n",
    "    end_point = \"http://openapi.tour.go.kr/openapi/service/EdrcntTourismStatsService/getEdrcntTourismStatsList\"\n",
    "    \n",
    "    parameters = \"?_type=json&serviceKey=\" + access_key\n",
    "    parameters += \"&YM=\" + yyyymm\n",
    "    parameters += \"&NAT_CD=\" + nat_cd\n",
    "    parameters += \"&ED_CD=\" + ed_cd\n",
    "    \n",
    "    url = end_point + parameters\n",
    "    \n",
    "    retData = get_request_url(url)\n",
    "    \n",
    "    if (retData == None):\n",
    "        return None\n",
    "    else:\n",
    "        return json.loads(retData)"
   ]
  },
  {
   "cell_type": "code",
   "execution_count": 5,
   "metadata": {},
   "outputs": [
    {
     "name": "stdout",
     "output_type": "stream",
     "text": [
      "[2017-10-23 15:54:52.619655] Url Request Success\n",
      "[2017-10-23 15:54:52.717234] Url Request Success\n",
      "[2017-10-23 15:54:52.822622] Url Request Success\n",
      "[2017-10-23 15:54:52.961372] Url Request Success\n",
      "[2017-10-23 15:54:53.055821] Url Request Success\n",
      "[2017-10-23 15:54:53.158282] Url Request Success\n",
      "[2017-10-23 15:54:53.248102] Url Request Success\n",
      "[2017-10-23 15:54:53.348222] Url Request Success\n",
      "[2017-10-23 15:54:53.446168] Url Request Success\n",
      "[2017-10-23 15:54:53.557177] Url Request Success\n",
      "[2017-10-23 15:54:53.666234] Url Request Success\n",
      "[2017-10-23 15:54:53.765924] Url Request Success\n",
      "[2017-10-23 15:54:53.875249] Url Request Success\n",
      "[2017-10-23 15:54:54.005313] Url Request Success\n",
      "[2017-10-23 15:54:54.135204] Url Request Success\n",
      "[2017-10-23 15:54:54.237207] Url Request Success\n",
      "[2017-10-23 15:54:54.336451] Url Request Success\n",
      "[2017-10-23 15:54:54.456211] Url Request Success\n",
      "[2017-10-23 15:54:54.572269] Url Request Success\n",
      "[2017-10-23 15:54:54.677036] Url Request Success\n",
      "[2017-10-23 15:54:54.776126] Url Request Success\n",
      "[2017-10-23 15:54:54.866288] Url Request Success\n",
      "[2017-10-23 15:54:54.966254] Url Request Success\n",
      "[2017-10-23 15:54:55.069266] Url Request Success\n",
      "[2017-10-23 15:54:55.171845] Url Request Success\n",
      "[2017-10-23 15:54:55.284345] Url Request Success\n",
      "[2017-10-23 15:54:55.395217] Url Request Success\n",
      "[2017-10-23 15:54:55.508177] Url Request Success\n",
      "[2017-10-23 15:54:55.607080] Url Request Success\n",
      "[2017-10-23 15:54:55.707170] Url Request Success\n",
      "[2017-10-23 15:54:55.817336] Url Request Success\n",
      "[2017-10-23 15:54:55.916166] Url Request Success\n",
      "[2017-10-23 15:54:56.046997] Url Request Success\n",
      "[2017-10-23 15:54:56.148983] Url Request Success\n",
      "[2017-10-23 15:54:56.248487] Url Request Success\n",
      "[2017-10-23 15:54:56.348838] Url Request Success\n",
      "[2017-10-23 15:54:56.457165] Url Request Success\n",
      "[2017-10-23 15:54:56.557205] Url Request Success\n",
      "[2017-10-23 15:54:56.673107] Url Request Success\n",
      "[2017-10-23 15:54:56.764163] Url Request Success\n",
      "[2017-10-23 15:54:56.867263] Url Request Success\n",
      "[2017-10-23 15:54:56.975226] Url Request Success\n",
      "[2017-10-23 15:54:57.085669] Url Request Success\n",
      "[2017-10-23 15:54:57.176262] Url Request Success\n",
      "[2017-10-23 15:54:57.277230] Url Request Success\n",
      "[2017-10-23 15:54:57.385461] Url Request Success\n",
      "[2017-10-23 15:54:57.493970] Url Request Success\n",
      "[2017-10-23 15:54:57.587262] Url Request Success\n",
      "[2017-10-23 15:54:57.704091] Url Request Success\n",
      "[2017-10-23 15:54:57.817873] Url Request Success\n",
      "[2017-10-23 15:54:57.916901] Url Request Success\n",
      "[2017-10-23 15:54:58.015912] Url Request Success\n",
      "[2017-10-23 15:54:58.118265] Url Request Success\n",
      "[2017-10-23 15:54:58.218169] Url Request Success\n",
      "[2017-10-23 15:54:58.316176] Url Request Success\n",
      "[2017-10-23 15:54:58.417232] Url Request Success\n",
      "[2017-10-23 15:54:58.520525] Url Request Success\n",
      "[2017-10-23 15:54:58.617253] Url Request Success\n",
      "[2017-10-23 15:54:58.716210] Url Request Success\n",
      "[2017-10-23 15:54:58.819353] Url Request Success\n"
     ]
    }
   ],
   "source": [
    "#def main():\n",
    "\n",
    "jsonResult = []\n",
    "\n",
    "    #중국: 112/ 일본: 130/ 미국: 275\n",
    "national_code =\"112\"\n",
    "\n",
    "ed_cd = \"E\"\n",
    "\n",
    "nStartYear = 2011\n",
    "nEndYear = 2016\n",
    "for year in range(nStartYear, nEndYear):\n",
    "    for month in range(1, 13):\n",
    "        \n",
    "        yyyymm = \"%04d%02d\" % (year,month)\n",
    "        jsonData = getNatVisitor(yyyymm, national_code, ed_cd)\n",
    "\n",
    "        if (jsonData['response']['header']['resultMsg'] == 'OK'):\n",
    "            krName = jsonData['response']['body']['items']['item']['natKorNm']\n",
    "            krName = krName.replace(' ', '')\n",
    "            iTotalVisit = jsonData['response']['body']['items']['item']['num']\n",
    "            jsonResult.append({'nat_name':krName, 'nat_cd':national_code,\n",
    "                              'yyyymm':yyyymm, 'visit_cnt':iTotalVisit})\n",
    "        else:\n",
    "            krName=''\n",
    "            break\n",
    "\n",
    "cnVisit = []\n",
    "VisitYM = []\n",
    "index = []\n",
    "i = 0\n",
    "for item in jsonResult:\n",
    "    index.append(i)\n",
    "    cnVisit.append(item['visit_cnt'])\n",
    "    VisitYM.append(item['yyyymm'])\n",
    "    i = i +1\n",
    "\n",
    "with open('%s(%s)_해외방문객정보_%d_%d.json' % (krName, national_code, nStartYear, nEndYear-1),\n",
    "         'w', encoding='utf-8') as outfile:\n",
    "    retJson = json.dumps(jsonResult,\n",
    "                        indent = 4, sort_keys = True,\n",
    "                        ensure_ascii = False)\n",
    "    outfile.write(retJson)"
   ]
  },
  {
   "cell_type": "code",
   "execution_count": 6,
   "metadata": {},
   "outputs": [
    {
     "data": {
      "image/png": "[encoded data removed]",
      "text/plain": [
       "<matplotlib.figure.Figure at 0x108b4c208>"
      ]
     },
     "metadata": {},
     "output_type": "display_data"
    }
   ],
   "source": [
    "plt.xticks(index, VisitYM)\n",
    "plt.plot(index,cnVisit)\n",
    "plt.xlabel('Month')\n",
    "plt.ylabel('Peoples')\n",
    "plt.grid(True)\n",
    "plt.show()"
   ]
  },
  {
   "cell_type": "code",
   "execution_count": null,
   "metadata": {
    "collapsed": true
   },
   "outputs": [],
   "source": []
  }
 ],
 "metadata": {
  "kernelspec": {
   "display_name": "Python 3",
   "language": "python",
   "name": "python3"
  },
  "language_info": {
   "codemirror_mode": {
    "name": "ipython",
    "version": 3
   },
   "file_extension": ".py",
   "mimetype": "text/x-python",
   "name": "python",
   "nbconvert_exporter": "python",
   "pygments_lexer": "ipython3",
   "version": "3.6.2"
  }
 },
 "nbformat": 4,
 "nbformat_minor": 2
}
